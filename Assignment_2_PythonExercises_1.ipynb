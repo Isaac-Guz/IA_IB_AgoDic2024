{
  "nbformat": 4,
  "nbformat_minor": 0,
  "metadata": {
    "colab": {
      "provenance": [],
      "authorship_tag": "ABX9TyO+1aY8Ur4exyybuaK1urd1",
      "include_colab_link": true
    },
    "kernelspec": {
      "name": "python3",
      "display_name": "Python 3"
    },
    "language_info": {
      "name": "python"
    }
  },
  "cells": [
    {
      "cell_type": "markdown",
      "metadata": {
        "id": "view-in-github",
        "colab_type": "text"
      },
      "source": [
        "<a href=\"https://colab.research.google.com/github/Isaac-Guz/IA_IB_AgoDic2024/blob/main/Assignment_2_PythonExercises_1.ipynb\" target=\"_parent\"><img src=\"https://colab.research.google.com/assets/colab-badge.svg\" alt=\"Open In Colab\"/></a>"
      ]
    },
    {
      "cell_type": "markdown",
      "source": [
        "**Student**: Isaac Jair Guzmán Berumen **ID**: 1917725\n",
        "**Subject**: AI **Group**:002"
      ],
      "metadata": {
        "id": "_a-Keuf_JncH"
      }
    },
    {
      "cell_type": "markdown",
      "source": [
        "Text Analysis Tool:\n",
        "\n",
        "Create a Python program that reads a text file and performs various analyses on its content. The program should: Count the number of words, sentences, and paragraphs. Calculate the average word length. Identify the most common words and their frequencies."
      ],
      "metadata": {
        "id": "0NKZ745UGaCX"
      }
    },
    {
      "cell_type": "code",
      "execution_count": null,
      "metadata": {
        "colab": {
          "base_uri": "https://localhost:8080/"
        },
        "id": "Y7AoE-18fIGU",
        "outputId": "ba11d695-18b1-46c4-fcfa-9585d834ab40"
      },
      "outputs": [
        {
          "output_type": "stream",
          "name": "stdout",
          "text": [
            "Enter the text to analyze: The Turing test, originally called the imitation game by Alan Turing in 1950, is a test of a machine's ability to exhibit intelligent behaviour equivalent to, or indistinguishable from, that of a human. Turing proposed that a human evaluator would judge natural language conversations between a human and a machine designed to generate human-like responses.\n",
            "Word count: 55\n",
            "Sentence count: 3\n",
            "Paragraph count: 1\n",
            "Average word length: 5.509090909090909\n",
            "Most common word: a ; 6 times appeared in the text analyzed\n"
          ]
        }
      ],
      "source": [
        "def analyze_text():\n",
        "    # Variables\n",
        "    word_count = 0\n",
        "    sentence_count = 0\n",
        "    paragraph_count = 0\n",
        "    total_word_length = 0\n",
        "    frequent_words = {}\n",
        "\n",
        "    # Get text\n",
        "    text = input(\"Enter the text to analyze: \")\n",
        "\n",
        "    # Divide text into words\n",
        "    words = text.lower().split()\n",
        "    #Divide text into sentences\n",
        "    sentences = text.split(\".\")\n",
        "\n",
        "    # Count words\n",
        "    word_count = len(words)\n",
        "    #Count sentences\n",
        "    sentence_count = len(sentences)\n",
        "    #Count paragraphs\n",
        "    paragraph_count = text.count(\"\\n\\n\") + 1  # Count empty lines between paragraphs\n",
        "\n",
        "    # Calculate total word length\n",
        "    for word in words:\n",
        "        total_word_length += len(word)\n",
        "    # Calculate average word length\n",
        "    average_word_length = total_word_length / word_count if word_count else 0\n",
        "\n",
        "    # Count word frequencies\n",
        "    for word in words:\n",
        "        frequent_words[word] = frequent_words.get(word, 0) + 1\n",
        "\n",
        "    # Find the most common word\n",
        "    most_common_word = max(frequent_words, key=frequent_words.get)\n",
        "    #How much did it appeared in the text\n",
        "    most_common_frequency = frequent_words[most_common_word]\n",
        "\n",
        "    # Print\n",
        "    print(\"Word count:\", word_count)\n",
        "    print(\"Sentence count:\", sentence_count)\n",
        "    print(\"Paragraph count:\", paragraph_count)\n",
        "    print(\"Average word length:\", average_word_length)\n",
        "    print(\"Most common word:\", most_common_word, \";\", most_common_frequency, \"times appeared in the text analyzed\")\n",
        "\n",
        "analyze_text()"
      ]
    },
    {
      "cell_type": "markdown",
      "source": [
        "Hangman Game:\n",
        "\n",
        "Create a Python program that allows a user to play the game of Hangman. The program should randomly select a word from a predefined list, and the player must guess letters one at a time until they guess the word correctly or run out of attempts."
      ],
      "metadata": {
        "id": "bIwBELyoH563"
      }
    },
    {
      "cell_type": "code",
      "source": [
        "import random\n",
        "\n",
        "def choose_word():\n",
        "    words = [\"airplane\", \"element\", \"guitar\", \"rainbow\", \"football\", \"universe\", \"chocolate\", \"mountai\n",
        "    n\", \"happiness\", \"butterfly\"]\n",
        "    return random.choice(words)\n",
        "\n",
        "def display_word(word, guessed_letters):\n",
        "    displayed_word = \"\"\n",
        "    for letter in word:\n",
        "        if letter in guessed_letters:\n",
        "            displayed_word += letter\n",
        "        else:\n",
        "            displayed_word += \"_\"\n",
        "    return displayed_word\n",
        "\n",
        "def hangman():\n",
        "    max_attempts = 5\n",
        "    word = choose_word()\n",
        "    guessed_letters = []\n",
        "    attempts = 0\n",
        "\n",
        "    print(\"Try to guess the word!\")\n",
        "\n",
        "    while True:\n",
        "        print(\"\\n\" + display_word(word, guessed_letters))\n",
        "        guess = input(\"Guess a letter: \")\n",
        "\n",
        "        if guess in word:\n",
        "            guessed_letters.append(guess)\n",
        "            print(\"Good guess!\")\n",
        "        else:\n",
        "            attempts += 1\n",
        "            print(\"Incorrect guess.\")\n",
        "            print(f\"You have {max_attempts - attempts} attempts left.\")\n",
        "\n",
        "        if \"_\" not in display_word(word, guessed_letters):\n",
        "            print(\"\\nCongratulations! You guessed the word:\", word)\n",
        "            break\n",
        "        elif attempts == max_attempts:\n",
        "            print(\"\\nSorry, you've run out of attempts. The word was:\", word)\n",
        "            break\n",
        "\n",
        "# Start the game\n",
        "hangman()"
      ],
      "metadata": {
        "colab": {
          "base_uri": "https://localhost:8080/"
        },
        "id": "oNqgWAH0H95Q",
        "outputId": "660789aa-50b2-4542-c938-970c8c2d26af"
      },
      "execution_count": null,
      "outputs": [
        {
          "output_type": "stream",
          "name": "stdout",
          "text": [
            "Try to guess the word!\n",
            "\n",
            "_________\n",
            "Guess a letter: a\n",
            "Incorrect guess.\n",
            "You have 4 attempts left.\n",
            "\n",
            "_________\n",
            "Guess a letter: e\n",
            "Good guess!\n",
            "\n",
            "____e____\n",
            "Guess a letter: i\n",
            "Incorrect guess.\n",
            "You have 3 attempts left.\n",
            "\n",
            "____e____\n",
            "Guess a letter: o\n",
            "Incorrect guess.\n",
            "You have 2 attempts left.\n",
            "\n",
            "____e____\n",
            "Guess a letter: u\n",
            "Good guess!\n",
            "\n",
            "_u__e____\n",
            "Guess a letter: b\n",
            "Good guess!\n",
            "\n",
            "bu__e____\n",
            "Guess a letter: t\n",
            "Good guess!\n",
            "\n",
            "butte____\n",
            "Guess a letter: f\n",
            "Good guess!\n",
            "\n",
            "butte_f__\n",
            "Guess a letter: r\n",
            "Good guess!\n",
            "\n",
            "butterf__\n",
            "Guess a letter: l\n",
            "Good guess!\n",
            "\n",
            "butterfl_\n",
            "Guess a letter: y\n",
            "Good guess!\n",
            "\n",
            "Congratulations! You guessed the word: butterfly\n"
          ]
        }
      ]
    },
    {
      "cell_type": "markdown",
      "source": [
        "Number Guessing Game:\n",
        "\n",
        "Create a program that generates a random number between 1 and 100, and then asks the user to guess the number. The program should provide hints to the user if the guessed number is greater or less than the target number, and keep asking for a new guess until the user guesses correctly."
      ],
      "metadata": {
        "id": "TStY2-h2I9RO"
      }
    },
    {
      "cell_type": "code",
      "source": [
        "import random\n",
        "#Generate a number from 1 to 100\n",
        "number_machine = random.randint (1,100)\n",
        "while True:\n",
        "#Do not show on screen\n",
        "  print(\"¿What number did I generate??\")\n",
        "  number_human = int(input(\"Enter the number: \"))\n",
        "  if number_machine == number_human:\n",
        "    print (\"¡You did it, it's the number!\\n\")\n",
        "    break\n",
        "  elif number_machine < number_human:\n",
        "    print (\"This number is greater, choose a number less than that\\n\")\n",
        "  else:\n",
        "    print (\"This number is less, choose a number greater than that\\n\")\n",
        "#The loop continues until answers match"
      ],
      "metadata": {
        "colab": {
          "base_uri": "https://localhost:8080/"
        },
        "id": "g31fCbU9I_sB",
        "outputId": "f0b35057-9bb8-43af-e974-a1fe3180b84d"
      },
      "execution_count": null,
      "outputs": [
        {
          "output_type": "stream",
          "name": "stdout",
          "text": [
            "¿What number did I generate??\n",
            "Enter the number: 50\n",
            "This number is greater, choose a number less than that\n",
            "\n",
            "¿What number did I generate??\n",
            "Enter the number: 40\n",
            "This number is greater, choose a number less than that\n",
            "\n",
            "¿What number did I generate??\n",
            "Enter the number: 10\n",
            "This number is less, choose a number greater than that\n",
            "\n",
            "¿What number did I generate??\n",
            "Enter the number: 15\n",
            "This number is greater, choose a number less than that\n",
            "\n",
            "¿What number did I generate??\n",
            "Enter the number: 12\n",
            "This number is less, choose a number greater than that\n",
            "\n",
            "¿What number did I generate??\n",
            "Enter the number: 13\n",
            "This number is less, choose a number greater than that\n",
            "\n",
            "¿What number did I generate??\n",
            "Enter the number: 14\n",
            "¡You did it, it's the number!\n",
            "\n"
          ]
        }
      ]
    }
  ]
}